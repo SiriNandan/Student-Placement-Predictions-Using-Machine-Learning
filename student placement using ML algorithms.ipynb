{
  "nbformat": 4,
  "nbformat_minor": 0,
  "metadata": {
    "colab": {
      "provenance": []
    },
    "kernelspec": {
      "name": "python3",
      "display_name": "Python 3"
    },
    "language_info": {
      "name": "python"
    }
  },
  "cells": [
    {
      "cell_type": "code",
      "execution_count": 1,
      "metadata": {
        "colab": {
          "base_uri": "https://localhost:8080/"
        },
        "id": "pURpx8mc1AWL",
        "outputId": "9b9827cd-22f9-4557-a1f0-4d2316554e35"
      },
      "outputs": [
        {
          "output_type": "stream",
          "name": "stdout",
          "text": [
            "Model: Logistic Regression\n",
            "Confusion Matrix:\n",
            "[[195  85]\n",
            " [ 81 233]]\n",
            "Accuracy: 0.7205387205387206\n",
            "Precision: 0.7327044025157232\n",
            "Recall: 0.7420382165605095\n",
            "F1 Score: 0.7373417721518987\n",
            "\n",
            "Model: Random Forest\n",
            "Confusion Matrix:\n",
            "[[267  13]\n",
            " [ 55 259]]\n",
            "Accuracy: 0.8855218855218855\n",
            "Precision: 0.9522058823529411\n",
            "Recall: 0.8248407643312102\n",
            "F1 Score: 0.8839590443686006\n",
            "\n",
            "Model: AdaBoost\n",
            "Confusion Matrix:\n",
            "[[262  18]\n",
            " [ 57 257]]\n",
            "Accuracy: 0.8737373737373737\n",
            "Precision: 0.9345454545454546\n",
            "Recall: 0.8184713375796179\n",
            "F1 Score: 0.8726655348047538\n",
            "\n",
            "Model: XGBoost\n",
            "Confusion Matrix:\n",
            "[[269  11]\n",
            " [ 58 256]]\n",
            "Accuracy: 0.8838383838383839\n",
            "Precision: 0.9588014981273408\n",
            "Recall: 0.8152866242038217\n",
            "F1 Score: 0.8812392426850258\n",
            "\n",
            "Model: Naive Bayes\n",
            "Confusion Matrix:\n",
            "[[232  48]\n",
            " [ 81 233]]\n",
            "Accuracy: 0.7828282828282829\n",
            "Precision: 0.8291814946619217\n",
            "Recall: 0.7420382165605095\n",
            "F1 Score: 0.7831932773109243\n",
            "\n"
          ]
        }
      ],
      "source": [
        "import pandas as pd\n",
        "import numpy as np\n",
        "from sklearn.model_selection import train_test_split\n",
        "from sklearn.linear_model import LogisticRegression\n",
        "from sklearn.ensemble import RandomForestClassifier\n",
        "from sklearn.ensemble import AdaBoostClassifier\n",
        "from sklearn.ensemble import GradientBoostingClassifier\n",
        "from sklearn.naive_bayes import GaussianNB\n",
        "from sklearn.metrics import confusion_matrix, accuracy_score, precision_score, recall_score, f1_score\n",
        "from sklearn.impute import SimpleImputer\n",
        "\n",
        "# Load the dataset\n",
        "df = pd.read_csv('/content/dataset1.csv')\n",
        "\n",
        "for column in df.columns:\n",
        "    if df[column].dtype == object:  # Check if the column is of object (string) type\n",
        "        try:\n",
        "            df[column] = pd.to_numeric(df[column], errors='coerce')  # Convert to numeric, replacing non-convertibles with NaN\n",
        "        except:\n",
        "            print(f\"Could not convert column {column} to numeric.\")\n",
        "            df = df.drop(column, axis=1)\n",
        "# Fill NaN values (if any) with a suitable strategy, e.g., mean\n",
        "df.fillna(df.mean(), inplace=True)\n",
        "\n",
        "# Preprocess the data\n",
        "imputer = SimpleImputer(strategy='mean')\n",
        "X = df.drop('PlacedOrNot', axis=1)\n",
        "y = df['PlacedOrNot']\n",
        "X = imputer.fit_transform(X)\n",
        "\n",
        "# Split the data into training and test sets\n",
        "X_train, X_test, y_train, y_test = train_test_split(X, y, test_size=0.2, random_state=42)\n",
        "\n",
        "# Train the models\n",
        "models = {\n",
        "    'Logistic Regression': LogisticRegression(),\n",
        "    'Random Forest': RandomForestClassifier(),\n",
        "    'AdaBoost': AdaBoostClassifier(),\n",
        "    'XGBoost': GradientBoostingClassifier(),\n",
        "    'Naive Bayes': GaussianNB()\n",
        "}\n",
        "\n",
        "model_results = {}\n",
        "for name, model in models.items():\n",
        "    model.fit(X_train, y_train)\n",
        "    y_pred = model.predict(X_test)\n",
        "    model_results[name] = {\n",
        "        'Confusion Matrix': confusion_matrix(y_test, y_pred),\n",
        "        'Accuracy': accuracy_score(y_test, y_pred),\n",
        "        'Precision': precision_score(y_test, y_pred),\n",
        "        'Recall': recall_score(y_test, y_pred),\n",
        "        'F1 Score': f1_score(y_test, y_pred)\n",
        "    }\n",
        "\n",
        "# Print the results\n",
        "for name, results in model_results.items():\n",
        "    print(f'Model: {name}')\n",
        "    print(f'Confusion Matrix:\\n{results[\"Confusion Matrix\"]}')\n",
        "    print(f'Accuracy: {results[\"Accuracy\"]}')\n",
        "    print(f'Precision: {results[\"Precision\"]}')\n",
        "    print(f'Recall: {results[\"Recall\"]}')\n",
        "    print(f'F1 Score: {results[\"F1 Score\"]}')\n",
        "    print()"
      ]
    },
    {
      "cell_type": "code",
      "source": [],
      "metadata": {
        "id": "1IynXEYW1PwV"
      },
      "execution_count": null,
      "outputs": []
    }
  ]
}